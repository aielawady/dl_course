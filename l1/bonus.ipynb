{
 "cells": [
  {
   "cell_type": "markdown",
   "id": "e6911b7d-415a-43d2-83aa-2aeabecdeb24",
   "metadata": {},
   "source": [
    "# Exercise"
   ]
  },
  {
   "cell_type": "markdown",
   "id": "26de9d7a-a022-45c8-95e6-cb9c71403336",
   "metadata": {},
   "source": [
    "Select a regression dataset you used in a previous course and train an MLP to fit the data. Create a table comparing the results obtained in the previous course with those obtained using the MLP. A portion of the score is dedicated to achieving better performance with the MLP compared to the results from the previous course."
   ]
  }
 ],
 "metadata": {
  "kernelspec": {
   "display_name": "Python 3 (ipykernel)",
   "language": "python",
   "name": "python3"
  },
  "language_info": {
   "codemirror_mode": {
    "name": "ipython",
    "version": 3
   },
   "file_extension": ".py",
   "mimetype": "text/x-python",
   "name": "python",
   "nbconvert_exporter": "python",
   "pygments_lexer": "ipython3",
   "version": "3.11.11"
  }
 },
 "nbformat": 4,
 "nbformat_minor": 5
}
